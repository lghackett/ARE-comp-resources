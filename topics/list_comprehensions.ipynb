{
 "cells": [
  {
   "cell_type": "markdown",
   "metadata": {},
   "source": [
    "# List comprehension in python\n",
    "\n",
    "List comprehension is a concise syntax for making arrays in python! It is not only aesthetically pleasing as a programming tool, but allows you to make lists \"on the fly\", which is frequently useful for making lists as inputs to other funtions or operations that you won't need later. "
   ]
  },
  {
   "cell_type": "markdown",
   "metadata": {},
   "source": [
    "## How to do it\n",
    "First let's see what a list comprehension is and its equivalent to other methods that may be more familiar. Let's first take a trivial example. Let's say we want to make a list of the numbers between 0 and 10. There are a couple equivalent ways to do this:"
   ]
  },
  {
   "cell_type": "code",
   "execution_count": 1,
   "metadata": {},
   "outputs": [
    {
     "data": {
      "text/plain": [
       "[0, 1, 2, 3, 4, 5, 6, 7, 8, 9, 10]"
      ]
     },
     "execution_count": 1,
     "metadata": {},
     "output_type": "execute_result"
    }
   ],
   "source": [
    "# Method 1: Manually define the list:\n",
    "x = [0, 1, 2, 3, 4, 5, 6, 7, 8, 9, 10]\n",
    "\n",
    "x"
   ]
  },
  {
   "cell_type": "code",
   "execution_count": 2,
   "metadata": {},
   "outputs": [
    {
     "data": {
      "text/plain": [
       "[0, 1, 2, 3, 4, 5, 6, 7, 8, 9, 10]"
      ]
     },
     "execution_count": 2,
     "metadata": {},
     "output_type": "execute_result"
    }
   ],
   "source": [
    "# Method 2: Make a loop that adds elements to an array one by one:\n",
    "y = []\n",
    "for i in range(0,11):\n",
    "    y.append(i)\n",
    "    \n",
    "y"
   ]
  },
  {
   "cell_type": "code",
   "execution_count": 3,
   "metadata": {},
   "outputs": [
    {
     "data": {
      "text/plain": [
       "[0, 1, 2, 3, 4, 5, 6, 7, 8, 9, 10]"
      ]
     },
     "execution_count": 3,
     "metadata": {},
     "output_type": "execute_result"
    }
   ],
   "source": [
    "# Method 3: List comprehension\n",
    "z = [i for i in range(11)] \n",
    "# note that the last element of range is omitted, so to go to 10 we do range(11)!\n",
    "\n",
    "z"
   ]
  },
  {
   "cell_type": "markdown",
   "metadata": {},
   "source": [
    "As we can see, all these methods give exactly the same list. Let's break down the parts of a list comprehension, comparing it to the loop in Method 2:\n",
    "\n",
    "1. List comprehensions go inside brackets; that's how we indicate that we are making a list\n",
    "2. We make a type of loop, where we define the variable that changes in each iteration (in the above example, i), and define a for loop that in the above case, loops over the integers from 0 to 10. "
   ]
  },
  {
   "cell_type": "markdown",
   "metadata": {},
   "source": [
    "Now let's make things a little more interesting, adding operations to our list comprehension. Here are some examples:"
   ]
  },
  {
   "cell_type": "code",
   "execution_count": 4,
   "metadata": {},
   "outputs": [
    {
     "data": {
      "text/plain": [
       "[0.0, 1.0, 1.4142135623730951, 1.7320508075688772, 2.0]"
      ]
     },
     "execution_count": 4,
     "metadata": {},
     "output_type": "execute_result"
    }
   ],
   "source": [
    "x = [i**(1/2) for i in range(0,5)]\n",
    "x"
   ]
  },
  {
   "cell_type": "markdown",
   "metadata": {},
   "source": [
    "We also don't only have to loop over numeric values! We can loop similarly to any other iteration we might do in python. Below I loop through the values of a dictionary, adding each array with its elements doubled to the list x. "
   ]
  },
  {
   "cell_type": "code",
   "execution_count": 5,
   "metadata": {},
   "outputs": [
    {
     "data": {
      "text/plain": [
       "[array([ 4,  8, 12]), array([ 2,  6, 10])]"
      ]
     },
     "execution_count": 5,
     "metadata": {},
     "output_type": "execute_result"
    }
   ],
   "source": [
    "import numpy as np\n",
    "\n",
    "mydictionary = {'x':np.array([2,4,6]), 'y':np.array([1,3,5])}\n",
    "\n",
    "x = [2*value for key, value in mydictionary.items()]\n",
    "x"
   ]
  },
  {
   "cell_type": "code",
   "execution_count": 6,
   "metadata": {},
   "outputs": [
    {
     "data": {
      "text/plain": [
       "array([[ 4,  8, 12],\n",
       "       [ 2,  6, 10]])"
      ]
     },
     "execution_count": 6,
     "metadata": {},
     "output_type": "execute_result"
    }
   ],
   "source": [
    "# let's turn the last list into a np array...\n",
    "x = np.array([2*value for key, value in mydictionary.items()])\n",
    "x # that looks nicer!"
   ]
  },
  {
   "cell_type": "code",
   "execution_count": 7,
   "metadata": {},
   "outputs": [
    {
     "data": {
      "text/plain": [
       "[[4, 8, 12], [2, 6, 10]]"
      ]
     },
     "execution_count": 7,
     "metadata": {},
     "output_type": "execute_result"
    }
   ],
   "source": [
    "# we can use a double list comprehension if we want a list of lists...\n",
    "mydictionary = {'x':[2,4,6], 'y':[1,3,5]}\n",
    "\n",
    "x = [[2*x for x in value] for key, value in mydictionary.items()]\n",
    "# Read this right to left: First we are looping over the keys and values of the dictionary.\n",
    "# then for each value (the lists), we take each element, multiply it by 2, and make that\n",
    "# into a list. These lists are then themselves the elements of the larger list!\n",
    "x"
   ]
  },
  {
   "cell_type": "code",
   "execution_count": 8,
   "metadata": {},
   "outputs": [
    {
     "data": {
      "text/plain": [
       "['m', 'i', 's', 's', 'i', 's', 's', 'i', 'p', 'p', 'i']"
      ]
     },
     "execution_count": 8,
     "metadata": {},
     "output_type": "execute_result"
    }
   ],
   "source": [
    "# loop over a string to separate each character:\n",
    "word = 'mississippi'\n",
    "x = [l for l in word]\n",
    "x"
   ]
  },
  {
   "cell_type": "markdown",
   "metadata": {},
   "source": [
    "We can also incorporate conditionals into our loops by tacking on the conditional expression at the end:"
   ]
  },
  {
   "cell_type": "code",
   "execution_count": 9,
   "metadata": {},
   "outputs": [
    {
     "data": {
      "text/plain": [
       "[0, 2, 4, 6, 8, 10]"
      ]
     },
     "execution_count": 9,
     "metadata": {},
     "output_type": "execute_result"
    }
   ],
   "source": [
    "# add only the even numbers from 0 to 10\n",
    "x = [x for x in range(11) if x % 2 == 0]\n",
    "x"
   ]
  },
  {
   "cell_type": "code",
   "execution_count": 10,
   "metadata": {},
   "outputs": [
    {
     "data": {
      "text/plain": [
       "[0, 'Odd!', 2, 'Odd!', 4, 'Odd!', 6, 'Odd!', 8, 'Odd!', 10]"
      ]
     },
     "execution_count": 10,
     "metadata": {},
     "output_type": "execute_result"
    }
   ],
   "source": [
    "# if a number is even, add it to the list. Otherwise put a \"Odd!\" in its place\n",
    "# note that for if-else expressions you move the if to be before the \"loop\" part \n",
    "x = [x if x % 2 == 0 else 'Odd!' for x in range(11)]\n",
    "x"
   ]
  },
  {
   "cell_type": "markdown",
   "metadata": {},
   "source": [
    "Finally, we can also make dictionaries in this way! Dictionaries are objects that have keys and values; the values in this case are identified by their key instead of by their index, as in a list."
   ]
  },
  {
   "cell_type": "code",
   "execution_count": 11,
   "metadata": {},
   "outputs": [
    {
     "data": {
      "text/plain": [
       "{'name': 'Henry', 'age': 60, 'program': 'ARE PhD'}"
      ]
     },
     "execution_count": 11,
     "metadata": {},
     "output_type": "execute_result"
    }
   ],
   "source": [
    "keys = ['name', 'age', 'program']\n",
    "values = ['Henry', 60, 'ARE PhD']\n",
    "\n",
    "{k : v for k, v in zip(keys, values)}"
   ]
  },
  {
   "cell_type": "code",
   "execution_count": 12,
   "metadata": {},
   "outputs": [
    {
     "data": {
      "text/plain": [
       "{'name': 'UNKNOWN', 'age': 'UNKNOWN', 'program': 'UNKNOWN'}"
      ]
     },
     "execution_count": 12,
     "metadata": {},
     "output_type": "execute_result"
    }
   ],
   "source": [
    "{k : 'UNKNOWN' for k in keys}"
   ]
  },
  {
   "cell_type": "markdown",
   "metadata": {},
   "source": [
    "## Why use list comprehensions\n",
    "List comprehensions can keep our code neat by creating unnamed lists right in the place where we need them. Let's say I want to plot some random draws from a normal distribution and plot them, but I don't need these draws for anything else. I can form the list of draws right in the code where I want to plot, without assigning them to any variable names. Let's see an example of this."
   ]
  },
  {
   "cell_type": "code",
   "execution_count": 13,
   "metadata": {},
   "outputs": [
    {
     "data": {
      "text/plain": [
       "[<matplotlib.lines.Line2D at 0x7fa6692a79d0>]"
      ]
     },
     "execution_count": 13,
     "metadata": {},
     "output_type": "execute_result"
    },
    {
     "data": {
      "image/png": "[encoded data removed]",
      "text/plain": [
       "<Figure size 720x288 with 3 Axes>"
      ]
     },
     "metadata": {
      "needs_background": "light"
     },
     "output_type": "display_data"
    }
   ],
   "source": [
    "import scipy.stats as iid\n",
    "import matplotlib.pyplot as plt\n",
    "\n",
    "# initialize distribution\n",
    "mynormal = iid.norm()\n",
    "\n",
    "# initialize plot\n",
    "fig, ax = plt.subplots(1,3,constrained_layout=True,figsize=(10,4))\n",
    "\n",
    "N = 100\n",
    "\n",
    "# now I'm going to make the data I want to plot with list comprehensions:\n",
    "# First I'll make the x data by getting N evenly spaced points from -1, 1 with np.linspace\n",
    "# then I'll make the y data by making a list of random draws from my normal distribution\n",
    "ax[0].plot(np.linspace(-1,1,N), \n",
    "           [mynormal.rvs() for x in range(0, N)])\n",
    "\n",
    "# let's make a histogram the same way:\n",
    "ax[1].hist([mynormal.rvs() for x in range(0, N)])\n",
    "# note that in the above list comprehensions, the elements of the list don't end up depending \n",
    "# on the \"x\" in the loop; I just use the loop to get N elements. \n",
    "\n",
    "# now let's do something similar, but plot the PDF at different points\n",
    "# so that we can see an example of where the elements of the list DO depend on the loop\n",
    "ax[2].plot(np.linspace(-1,1,N),\n",
    "           [mynormal.pdf(x) for x in np.linspace(-1,1,N)])\n"
   ]
  },
  {
   "cell_type": "markdown",
   "metadata": {},
   "source": [
    "These are just a few examples of the many ways that list comprehensions can be used. Try some out in your own code to get the hang of them!"
   ]
  }
 ],
 "metadata": {
  "kernelspec": {
   "display_name": "Python 3 (ipykernel)",
   "language": "python",
   "name": "python3"
  },
  "language_info": {
   "codemirror_mode": {
    "name": "ipython",
    "version": 3
   },
   "file_extension": ".py",
   "mimetype": "text/x-python",
   "name": "python",
   "nbconvert_exporter": "python",
   "pygments_lexer": "ipython3",
   "version": "3.9.4"
  }
 },
 "nbformat": 4,
 "nbformat_minor": 4
}
